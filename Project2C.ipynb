{
 "cells": [
  {
   "cell_type": "markdown",
   "id": "adf4c270",
   "metadata": {},
   "source": [
    "# Mikayla Clarke's Project 2C"
   ]
  },
  {
   "cell_type": "markdown",
   "id": "4d22d107",
   "metadata": {},
   "source": [
    "# Introduction\n",
    "### Scientific Question\n",
    "Why does the hemagglutinin (HA) in the influenza A H1N1, and H3N2 and the influenza B Yamagata and Victoria viruses affect the protection provided from the influenza vaccine?\n",
    "### Background\n",
    "Influenza vaccine contains strains from influenza A H1N1, influenza A H3N2, influenza B Yamagata, and influenza B Victoria. All of the influenza viruses are primarily composed of two proteins; hemagglutinin (HA) and neuraminidase (NA). HA and NA proteins act as antigens which are on the surface of the virus and are recognized by the immune system. They triger an immune response. The influenza vaccine primarily targets the HA protein of the virus, because that has more variability among the different strains, whereas the NA tends to be much more similar across strains.\n",
    "\n",
    " https://www.cdc.gov/flu/about/viruses/types.htm\n",
    "### Scientific Hypothesis\n",
    "Since the influenza vaccine incorporates all four of the virus strains, it is known that the vaccine provides the least amount of protection against influenza A H3N2 than the rest. Based on this previous research, if humans are exposed to influenza a H1N1, influenza a H3N2, influenza B Yamagata, and influenza B Victoria, then the influenza vaccine will provide the least protection against H3N2 because the hemagglutinin (HA) of the H3N2 virus will vary the most from H1N1, Yamagata and Victoria strains.\n",
    "### Description of what was done and how data was downloaded\n",
    "Seqeunces for multiple alignment were downloaded from the NCBI nucleotide as one large fasta file. This was done by first finding all of my hemagglutinin sequences of interest; Influenza A H1N1 HA, Influenza A H3N2 HA, Influenza B Yamagata HA, and Influenza B Victoria HA. I found all of them with the same sequence length and their ascension numbers are; AB451167.1, KY888464.1, KP461123.1, and KP459386.1 respectively. I put all of these into the NCBI nucleotide search bar and was able to load all four sequences on the same page. I downloaded this as one fasta file to be used for the mutiple sequence alignment.\n",
    "\n",
    "For the structural bioinformatics, I found all of the 3D protein structures for all four strains of interest; Influenza A H1N1 HA, Influenza A H3N2 HA, Influenza B Yamagata HA, and Influenza B Victoria HA. I obtained their ascension numbers; 3LZG, 2YP7, 7KQI, and 7KQH respectively. These were used with nglview to produce the 3D structures within the notebook.\n",
    "\n",
    "For 3D protein measurements, the pdb files from all of the 3D protein structures above were downloaded and then loaded into the libary of my jupyter notebook. Using PDBParser, I uploaded the files with their ascension numbers in order to measure the 3D protein structures.\n",
    "\n",
    "Lastly, for the sequence logo..."
   ]
  },
  {
   "cell_type": "markdown",
   "id": "595de295",
   "metadata": {},
   "source": [
    "# Loading in Packages\n",
    "### Bio - Used for multiple sequence alignment and for 3D protein measurements\n",
    "### nglview - used for viewing 3D protein structures\n",
    "### Weblogo - Used for creating sequence logos"
   ]
  },
  {
   "cell_type": "markdown",
   "id": "ac5c98a6",
   "metadata": {},
   "source": [
    "# Performing Bioinformatics Analysis "
   ]
  },
  {
   "cell_type": "markdown",
   "id": "f49ebca5",
   "metadata": {},
   "source": [
    "### Multiple Sequence Alignment\n",
    "Multiple sequence alignment compares three or more protein or nucleic acid sequence of similar length. From the alignment, we can infer the homology and evolutionary relationships between the sequences of study.\n",
    "\n",
    "Multiple Sequence Alignment code from: https://biopython.org/docs/1.76/api/Bio.Align.html"
   ]
  },
  {
   "cell_type": "code",
   "execution_count": 15,
   "id": "c4d0f883",
   "metadata": {},
   "outputs": [
    {
     "name": "stdout",
     "output_type": "stream",
     "text": [
      "Alignment with 4 rows and 978 columns\n",
      "CTGGTTTTCGCTCAAAAACTTCCTGGAAATGACAATAGCACGGC...AAT KY888464.1\n",
      "GACACAATATGTATAGGCTACCATGCTAACAACTCGACCGACAC...AGA AB451167.1\n",
      "GATCGAATCTGCACTGGAATAACATCTTCAAACTCACCTCATGT...ACA KP461123.1\n",
      "GATCGAATCTGCACTGGAATAACATCCTCAAACTCACCTCATGT...ACA KP459386.1\n",
      "KY888464.1 978\n",
      "AB451167.1 978\n",
      "KP461123.1 978\n",
      "KP459386.1 978\n"
     ]
    }
   ],
   "source": [
    "# Import AlignIO package from Bio\n",
    "from Bio import AlignIO\n",
    "# load in fasta file of all four virus sequences for alignment\n",
    "align = AlignIO.read(\"Total.fasta\", \"fasta\")\n",
    "# print alignment\n",
    "print(align)\n",
    "# find length of alignment\n",
    "len(align)\n",
    "# for all of the strains in the alignment, we will print out the length of the sequence along with their ascension number.\n",
    "for record in align:\n",
    "    print(\"%s %i\" % (record.id, len(record)))"
   ]
  },
  {
   "cell_type": "markdown",
   "id": "e0c7a7f7",
   "metadata": {},
   "source": [
    "### Structural Bioinformatics\n",
    "Structural bioinformatics allows for the visualization of the 3D protein structure of proteins of interest. These structures can be compared to look at differences between the protein structures of the hemagglutinin in all four strains."
   ]
  },
  {
   "cell_type": "code",
   "execution_count": 16,
   "id": "ae13dfaf",
   "metadata": {},
   "outputs": [
    {
     "name": "stdout",
     "output_type": "stream",
     "text": [
      "Collecting package metadata (current_repodata.json): done\n",
      "Solving environment: done\n",
      "\n",
      "# All requested packages already installed.\n",
      "\n",
      "\n",
      "Note: you may need to restart the kernel to use updated packages.\n"
     ]
    }
   ],
   "source": [
    "conda install -c conda-forge nglview"
   ]
  },
  {
   "cell_type": "code",
   "execution_count": 37,
   "id": "58a536ca",
   "metadata": {},
   "outputs": [],
   "source": [
    "# import nglview package\n",
    "import nglview as nv"
   ]
  },
  {
   "cell_type": "code",
   "execution_count": 22,
   "id": "216ef0d4",
   "metadata": {},
   "outputs": [
    {
     "data": {
      "application/vnd.jupyter.widget-view+json": {
       "model_id": "141a6a511974430c8a685af2b51a8fad",
       "version_major": 2,
       "version_minor": 0
      },
      "text/plain": [
       "NGLWidget()"
      ]
     },
     "metadata": {},
     "output_type": "display_data"
    }
   ],
   "source": [
    "# Influenza A H1N1\n",
    "view = nv.show_pdbid(\"3LZG\")\n",
    "view"
   ]
  },
  {
   "cell_type": "code",
   "execution_count": 19,
   "id": "4acb34c8",
   "metadata": {},
   "outputs": [
    {
     "data": {
      "application/vnd.jupyter.widget-view+json": {
       "model_id": "ace40432dcb94a3ea00e6d7f1a2ea48d",
       "version_major": 2,
       "version_minor": 0
      },
      "text/plain": [
       "NGLWidget()"
      ]
     },
     "metadata": {},
     "output_type": "display_data"
    }
   ],
   "source": [
    "# Influenza A H3N2\n",
    "view = nv.show_pdbid(\"2YP7\")\n",
    "view"
   ]
  },
  {
   "cell_type": "code",
   "execution_count": 20,
   "id": "c1ce6192",
   "metadata": {},
   "outputs": [
    {
     "data": {
      "application/vnd.jupyter.widget-view+json": {
       "model_id": "0bb263c7a5be463da5c9b627521227ff",
       "version_major": 2,
       "version_minor": 0
      },
      "text/plain": [
       "NGLWidget()"
      ]
     },
     "metadata": {},
     "output_type": "display_data"
    }
   ],
   "source": [
    "# Influenza B Yamagata\n",
    "view = nv.show_pdbid(\"7KQI\")\n",
    "view"
   ]
  },
  {
   "cell_type": "code",
   "execution_count": 21,
   "id": "1415c9b0",
   "metadata": {},
   "outputs": [
    {
     "data": {
      "application/vnd.jupyter.widget-view+json": {
       "model_id": "70822d6395944112b18cb9d816c066f9",
       "version_major": 2,
       "version_minor": 0
      },
      "text/plain": [
       "NGLWidget()"
      ]
     },
     "metadata": {},
     "output_type": "display_data"
    }
   ],
   "source": [
    "# Influenza B Victoria\n",
    "view = nv.show_pdbid(\"7KQH\")\n",
    "view"
   ]
  },
  {
   "cell_type": "markdown",
   "id": "fdf4bd98",
   "metadata": {},
   "source": [
    "# Plotting the Results"
   ]
  },
  {
   "cell_type": "markdown",
   "id": "ee73c323",
   "metadata": {},
   "source": [
    "### 3D protein measurements\n",
    "3D protein measurements is used for measuring specific measurements of a 3D protein structure. "
   ]
  },
  {
   "cell_type": "code",
   "execution_count": 38,
   "id": "7b8f2ef0",
   "metadata": {},
   "outputs": [],
   "source": [
    "# import PDBParser from Bio.PDB.PDBParser\n",
    "from Bio.PDB.PDBParser import PDBParser"
   ]
  },
  {
   "cell_type": "code",
   "execution_count": 40,
   "id": "5cdb5f07",
   "metadata": {},
   "outputs": [
    {
     "name": "stdout",
     "output_type": "stream",
     "text": [
      "3.811898\n"
     ]
    },
    {
     "name": "stderr",
     "output_type": "stream",
     "text": [
      "/Users/brandon/opt/anaconda3/lib/python3.9/site-packages/Bio/PDB/StructureBuilder.py:89: PDBConstructionWarning: WARNING: Chain E is discontinuous at line 48331.\n",
      "  warnings.warn(\n",
      "/Users/brandon/opt/anaconda3/lib/python3.9/site-packages/Bio/PDB/StructureBuilder.py:89: PDBConstructionWarning: WARNING: Chain K is discontinuous at line 48359.\n",
      "  warnings.warn(\n",
      "/Users/brandon/opt/anaconda3/lib/python3.9/site-packages/Bio/PDB/StructureBuilder.py:89: PDBConstructionWarning: WARNING: Chain A is discontinuous at line 48387.\n",
      "  warnings.warn(\n",
      "/Users/brandon/opt/anaconda3/lib/python3.9/site-packages/Bio/PDB/StructureBuilder.py:89: PDBConstructionWarning: WARNING: Chain B is discontinuous at line 48456.\n",
      "  warnings.warn(\n",
      "/Users/brandon/opt/anaconda3/lib/python3.9/site-packages/Bio/PDB/StructureBuilder.py:89: PDBConstructionWarning: WARNING: Chain C is discontinuous at line 48488.\n",
      "  warnings.warn(\n",
      "/Users/brandon/opt/anaconda3/lib/python3.9/site-packages/Bio/PDB/StructureBuilder.py:89: PDBConstructionWarning: WARNING: Chain D is discontinuous at line 48542.\n",
      "  warnings.warn(\n",
      "/Users/brandon/opt/anaconda3/lib/python3.9/site-packages/Bio/PDB/StructureBuilder.py:89: PDBConstructionWarning: WARNING: Chain E is discontinuous at line 48565.\n",
      "  warnings.warn(\n",
      "/Users/brandon/opt/anaconda3/lib/python3.9/site-packages/Bio/PDB/StructureBuilder.py:89: PDBConstructionWarning: WARNING: Chain F is discontinuous at line 48625.\n",
      "  warnings.warn(\n",
      "/Users/brandon/opt/anaconda3/lib/python3.9/site-packages/Bio/PDB/StructureBuilder.py:89: PDBConstructionWarning: WARNING: Chain G is discontinuous at line 48648.\n",
      "  warnings.warn(\n",
      "/Users/brandon/opt/anaconda3/lib/python3.9/site-packages/Bio/PDB/StructureBuilder.py:89: PDBConstructionWarning: WARNING: Chain H is discontinuous at line 48707.\n",
      "  warnings.warn(\n",
      "/Users/brandon/opt/anaconda3/lib/python3.9/site-packages/Bio/PDB/StructureBuilder.py:89: PDBConstructionWarning: WARNING: Chain I is discontinuous at line 48731.\n",
      "  warnings.warn(\n",
      "/Users/brandon/opt/anaconda3/lib/python3.9/site-packages/Bio/PDB/StructureBuilder.py:89: PDBConstructionWarning: WARNING: Chain J is discontinuous at line 48770.\n",
      "  warnings.warn(\n",
      "/Users/brandon/opt/anaconda3/lib/python3.9/site-packages/Bio/PDB/StructureBuilder.py:89: PDBConstructionWarning: WARNING: Chain K is discontinuous at line 48790.\n",
      "  warnings.warn(\n",
      "/Users/brandon/opt/anaconda3/lib/python3.9/site-packages/Bio/PDB/StructureBuilder.py:89: PDBConstructionWarning: WARNING: Chain L is discontinuous at line 48824.\n",
      "  warnings.warn(\n"
     ]
    }
   ],
   "source": [
    "# Influenza A H1N1\n",
    "parser = PDBParser()\n",
    "# get protein structure of H1N1\n",
    "structure_H1N1 = parser.get_structure(\"3LZG\", \"3lzg.pdb\")\n",
    "# get the residues from the protein structure of H1N1\n",
    "residues_H1N1 = [r for r in structure_H1N1.get_residues()]\n",
    "# calculate the distance between the alpha carbons\n",
    "ca1_H1N1 = residues_H1N1[0][\"CA\"]\n",
    "ca2_H1N1 = residues_H1N1[1][\"CA\"]\n",
    "distance_H1N1 = ca1_H1N1 - ca2_H1N1\n",
    "# print the distance between the alpha carbons\n",
    "print(distance_H1N1)"
   ]
  },
  {
   "cell_type": "code",
   "execution_count": 41,
   "id": "9e2c1ea7",
   "metadata": {},
   "outputs": [
    {
     "name": "stdout",
     "output_type": "stream",
     "text": [
      "3.8561075\n"
     ]
    },
    {
     "name": "stderr",
     "output_type": "stream",
     "text": [
      "/Users/brandon/opt/anaconda3/lib/python3.9/site-packages/Bio/PDB/StructureBuilder.py:89: PDBConstructionWarning: WARNING: Chain A is discontinuous at line 8574.\n",
      "  warnings.warn(\n"
     ]
    }
   ],
   "source": [
    "# Influenza A H3N2\n",
    "parser = PDBParser()\n",
    "# get protein structure of H3N2\n",
    "structure_H3N2 = parser.get_structure(\"2YP7\", \"2yp7.pdb\")\n",
    "# get the residues from the protein structure of H3N2\n",
    "residues_H3N2 = [r for r in structure_H3N2.get_residues()]\n",
    "# calculate the distance between the alpha carbons\n",
    "ca1_H3N2 = residues_H3N2[0][\"CA\"]\n",
    "ca2_H3N2 = residues_H3N2[1][\"CA\"]\n",
    "distance_H3N2 = ca1_H3N2 - ca2_H3N2\n",
    "# print the distance between the alpha carbons\n",
    "print(distance_H3N2)"
   ]
  },
  {
   "cell_type": "code",
   "execution_count": 42,
   "id": "7ccd6885",
   "metadata": {},
   "outputs": [
    {
     "name": "stdout",
     "output_type": "stream",
     "text": [
      "3.8054087\n"
     ]
    }
   ],
   "source": [
    "# Influenza B Yamagata\n",
    "parser = PDBParser()\n",
    "# get protein structure of Yamagata\n",
    "structure_Yamagata = parser.get_structure(\"7KQI\", \"7kqi.pdb\")\n",
    "# get the residues from the protein structure of Yamagata\n",
    "residues_Yamagata = [r for r in structure_Yamagata.get_residues()]\n",
    "# calculate the distance between the alpha carbons\n",
    "ca1_Yamagata = residues_Yamagata[0][\"CA\"]\n",
    "ca2_Yamagata = residues_Yamagata[1][\"CA\"]\n",
    "distance_Yamagata = ca1_Yamagata - ca2_Yamagata\n",
    "# print the distance between the alpha carbons\n",
    "print(distance_Yamagata)"
   ]
  },
  {
   "cell_type": "code",
   "execution_count": 43,
   "id": "c90391d1",
   "metadata": {},
   "outputs": [
    {
     "name": "stdout",
     "output_type": "stream",
     "text": [
      "3.7973094\n"
     ]
    }
   ],
   "source": [
    "# Influenza B Victoria\n",
    "parser = PDBParser()\n",
    "# get protein structure of Victoria\n",
    "structure_Victoria = parser.get_structure(\"7KQH\", \"7kqh.pdb\")\n",
    "# get the residues from the protein structure of Victoria\n",
    "residues_Victoria = [r for r in structure_Victoria.get_residues()]\n",
    "# calculate the distance between the alpha carbons\n",
    "ca1_Victoria = residues_Victoria[0][\"CA\"]\n",
    "ca2_Victoria = residues_Victoria[1][\"CA\"]\n",
    "distance_Victoria = ca1_Victoria - ca2_Victoria\n",
    "# print the distance between the alpha carbons\n",
    "print(distance_Victoria)"
   ]
  },
  {
   "cell_type": "markdown",
   "id": "657a3ad6",
   "metadata": {},
   "source": [
    "### Sequence Logos\n",
    "Sequence Logos are made from the multiple sequence alignment. It is used to show the diversity between the sequences."
   ]
  },
  {
   "cell_type": "code",
   "execution_count": 10,
   "id": "1753826f",
   "metadata": {},
   "outputs": [
    {
     "name": "stdout",
     "output_type": "stream",
     "text": [
      "Requirement already satisfied: weblogo in /Users/brandon/opt/anaconda3/lib/python3.9/site-packages (3.7.11)\n",
      "Requirement already satisfied: numpy in /Users/brandon/opt/anaconda3/lib/python3.9/site-packages (from weblogo) (1.20.3)\n",
      "Requirement already satisfied: scipy in /Users/brandon/opt/anaconda3/lib/python3.9/site-packages (from weblogo) (1.7.1)\n",
      "Requirement already satisfied: setuptools in /Users/brandon/opt/anaconda3/lib/python3.9/site-packages (from weblogo) (58.0.4)\n",
      "Note: you may need to restart the kernel to use updated packages.\n"
     ]
    }
   ],
   "source": [
    "pip install weblogo"
   ]
  },
  {
   "cell_type": "code",
   "execution_count": 51,
   "id": "8b958915",
   "metadata": {},
   "outputs": [],
   "source": [
    "from weblogo import *"
   ]
  },
  {
   "cell_type": "code",
   "execution_count": 88,
   "id": "f382c961",
   "metadata": {},
   "outputs": [
    {
     "data": {
      "text/plain": [
       "<Figure size 432x288 with 0 Axes>"
      ]
     },
     "metadata": {},
     "output_type": "display_data"
    }
   ],
   "source": [
    "fin = open('Total.fasta')\n",
    "seqs = read_seq_data(fin)\n",
    "logodata = LogoData.from_seqs(seqs)\n",
    "logooptions = LogoOptions()\n",
    "logooptions.title = \"Sequence Logo\"\n",
    "logoformat = LogoFormat(logodata, logooptions)\n",
    "eps = eps_formatter(logodata, logoformat)\n",
    "plt.savefig(\"x.png\", format=\"png\")\n",
    "plt.show()"
   ]
  },
  {
   "cell_type": "markdown",
   "id": "52a7bb15",
   "metadata": {},
   "source": [
    "### Phylogenetic clustering"
   ]
  },
  {
   "cell_type": "code",
   "execution_count": 89,
   "id": "95269366",
   "metadata": {},
   "outputs": [],
   "source": [
    "import Bio\n",
    "from Bio import Phylo, AlignIO\n",
    "from Bio.Phylo.TreeConstruction import DistanceCalculator, DistanceTreeConstructor"
   ]
  },
  {
   "cell_type": "code",
   "execution_count": 90,
   "id": "d0219c04",
   "metadata": {},
   "outputs": [
    {
     "name": "stdout",
     "output_type": "stream",
     "text": [
      "Alignment with 4 rows and 978 columns\n",
      "CTGGTTTTCGCTCAAAAACTTCCTGGAAATGACAATAGCACGGC...AAT KY888464.1\n",
      "GACACAATATGTATAGGCTACCATGCTAACAACTCGACCGACAC...AGA AB451167.1\n",
      "GATCGAATCTGCACTGGAATAACATCTTCAAACTCACCTCATGT...ACA KP461123.1\n",
      "GATCGAATCTGCACTGGAATAACATCCTCAAACTCACCTCATGT...ACA KP459386.1\n",
      "KY888464.1\t0\n",
      "AB451167.1\t0.7413087934560327\t0\n",
      "KP461123.1\t0.7229038854805726\t0.7198364008179959\t0\n",
      "KP459386.1\t0.7239263803680982\t0.7229038854805726\t0.004089979550102263\t0\n",
      "\tKY888464.1\tAB451167.1\tKP461123.1\tKP459386.1\n"
     ]
    },
    {
     "data": {
      "image/png": "[encoded data removed]",
      "text/plain": [
       "<Figure size 432x288 with 1 Axes>"
      ]
     },
     "metadata": {
      "needs_background": "light"
     },
     "output_type": "display_data"
    }
   ],
   "source": [
    "#read and align query sequences from the file \"CoV_S_seqs.fasta\" and name the alignment result as \"align\"\n",
    "align = AlignIO.read(\"Total.fasta\", \"fasta\")\n",
    "\n",
    "#print out the alignment result\n",
    "print(align)\n",
    "\n",
    "#calculate the distance matrix using DistanceCalculator and name as \"distMatrix\"\n",
    "calculator = DistanceCalculator('identity')\n",
    "distMatrix = calculator.get_distance(align)\n",
    "\n",
    "#print out distance matrix result\n",
    "print(distMatrix)\n",
    "\n",
    "#create a DistanceTreeConstructor object\n",
    "constructor = DistanceTreeConstructor()\n",
    "\n",
    "#Construct the phylogenetic tree using UPGMA algorithm\n",
    "Tree = constructor.upgma(distMatrix)\n",
    "\n",
    "#Draw the phylogenetic tree with phylo.draw() function\n",
    "Phylo.draw(Tree)"
   ]
  },
  {
   "cell_type": "markdown",
   "id": "2c8f772f",
   "metadata": {},
   "source": [
    "# Analysis of the Data\n",
    "So far, the data obtained helps prove my hypothesis. The H3N2 HA sequence is the most different in the alignment, looks the most different out of the 3D protein structures and has the largest difference between the alpha carbons in the 3D protein measurements."
   ]
  },
  {
   "cell_type": "code",
   "execution_count": null,
   "id": "c788cbf6",
   "metadata": {},
   "outputs": [],
   "source": []
  }
 ],
 "metadata": {
  "kernelspec": {
   "display_name": "Python 3 (ipykernel)",
   "language": "python",
   "name": "python3"
  },
  "language_info": {
   "codemirror_mode": {
    "name": "ipython",
    "version": 3
   },
   "file_extension": ".py",
   "mimetype": "text/x-python",
   "name": "python",
   "nbconvert_exporter": "python",
   "pygments_lexer": "ipython3",
   "version": "3.9.7"
  }
 },
 "nbformat": 4,
 "nbformat_minor": 5
}
